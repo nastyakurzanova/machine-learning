{
  "nbformat": 4,
  "nbformat_minor": 0,
  "metadata": {
    "colab": {
      "provenance": []
    },
    "kernelspec": {
      "name": "python3",
      "display_name": "Python 3"
    },
    "language_info": {
      "name": "python"
    }
  },
  "cells": [
    {
      "cell_type": "markdown",
      "source": [
        "# Курзанова Анастасия ИУ5-61Б 8 вариант"
      ],
      "metadata": {
        "id": "we79VNFGcMni"
      }
    },
    {
      "cell_type": "markdown",
      "source": [
        "Задание. Для заданного набора данных (по Вашему варианту) постройте модели классификации или регрессии (в зависимости от конкретной задачи, рассматриваемой в наборе данных). Для построения моделей используйте методы 1 и 2 (по варианту для Вашей группы). Оцените качество моделей на основе подходящих метрик качества (не менее двух метрик). Какие метрики качества Вы использовали и почему? Какие выводы Вы можете сделать о качестве построенных моделей? Для построения моделей необходимо выполнить требуемую предобработку данных: заполнение пропусков, кодирование категориальных признаков, и т.д.\n",
        "\n",
        "ИУ5-61Б, ИУ5Ц-81Б\tЛинейная/логистическая регрессия\tСлучайный лес"
      ],
      "metadata": {
        "id": "W6FTaqymcZRu"
      }
    },
    {
      "cell_type": "code",
      "source": [
        "import pandas as pd\n",
        "from sklearn.model_selection import train_test_split\n",
        "from sklearn.preprocessing import LabelEncoder\n",
        "from sklearn.linear_model import LogisticRegression\n",
        "from sklearn.ensemble import RandomForestClassifier\n",
        "from sklearn.ensemble import RandomForestRegressor\n",
        "from sklearn.linear_model import LinearRegression\n",
        "from sklearn.datasets import load_iris\n",
        "from sklearn.metrics import accuracy_score, precision_score, recall_score, f1_score, confusion_matrix\n",
        "from sklearn.metrics import mean_squared_error, r2_score\n",
        "from sklearn.metrics import accuracy_score, confusion_matrix\n",
        "\n",
        "# Загрузка данных\n",
        "data = pd.read_csv('googleplaystore.csv')"
      ],
      "metadata": {
        "id": "V3wv5a2ROZA1"
      },
      "execution_count": 68,
      "outputs": []
    },
    {
      "cell_type": "code",
      "source": [
        "# Выведим первые 5 строк датасета\n",
        "data.head()"
      ],
      "metadata": {
        "colab": {
          "base_uri": "https://localhost:8080/",
          "height": 362
        },
        "id": "6f7dDUfEOvbF",
        "outputId": "f867497b-5026-4011-cd43-3eaeebe4dfed"
      },
      "execution_count": 69,
      "outputs": [
        {
          "output_type": "execute_result",
          "data": {
            "text/plain": [
              "                                                 App        Category  Rating  \\\n",
              "0     Photo Editor & Candy Camera & Grid & ScrapBook  ART_AND_DESIGN     4.1   \n",
              "1                                Coloring book moana  ART_AND_DESIGN     3.9   \n",
              "2  U Launcher Lite – FREE Live Cool Themes, Hide ...  ART_AND_DESIGN     4.7   \n",
              "3                              Sketch - Draw & Paint  ART_AND_DESIGN     4.5   \n",
              "4              Pixel Draw - Number Art Coloring Book  ART_AND_DESIGN     4.3   \n",
              "\n",
              "  Reviews  Size     Installs  Type Price Content Rating  \\\n",
              "0     159   19M      10,000+  Free     0       Everyone   \n",
              "1     967   14M     500,000+  Free     0       Everyone   \n",
              "2   87510  8.7M   5,000,000+  Free     0       Everyone   \n",
              "3  215644   25M  50,000,000+  Free     0           Teen   \n",
              "4     967  2.8M     100,000+  Free     0       Everyone   \n",
              "\n",
              "                      Genres      Last Updated         Current Ver  \\\n",
              "0               Art & Design   January 7, 2018               1.0.0   \n",
              "1  Art & Design;Pretend Play  January 15, 2018               2.0.0   \n",
              "2               Art & Design    August 1, 2018               1.2.4   \n",
              "3               Art & Design      June 8, 2018  Varies with device   \n",
              "4    Art & Design;Creativity     June 20, 2018                 1.1   \n",
              "\n",
              "    Android Ver  \n",
              "0  4.0.3 and up  \n",
              "1  4.0.3 and up  \n",
              "2  4.0.3 and up  \n",
              "3    4.2 and up  \n",
              "4    4.4 and up  "
            ],
            "text/html": [
              "\n",
              "  <div id=\"df-9d0c3145-34a2-47ef-994c-9dba53120203\" class=\"colab-df-container\">\n",
              "    <div>\n",
              "<style scoped>\n",
              "    .dataframe tbody tr th:only-of-type {\n",
              "        vertical-align: middle;\n",
              "    }\n",
              "\n",
              "    .dataframe tbody tr th {\n",
              "        vertical-align: top;\n",
              "    }\n",
              "\n",
              "    .dataframe thead th {\n",
              "        text-align: right;\n",
              "    }\n",
              "</style>\n",
              "<table border=\"1\" class=\"dataframe\">\n",
              "  <thead>\n",
              "    <tr style=\"text-align: right;\">\n",
              "      <th></th>\n",
              "      <th>App</th>\n",
              "      <th>Category</th>\n",
              "      <th>Rating</th>\n",
              "      <th>Reviews</th>\n",
              "      <th>Size</th>\n",
              "      <th>Installs</th>\n",
              "      <th>Type</th>\n",
              "      <th>Price</th>\n",
              "      <th>Content Rating</th>\n",
              "      <th>Genres</th>\n",
              "      <th>Last Updated</th>\n",
              "      <th>Current Ver</th>\n",
              "      <th>Android Ver</th>\n",
              "    </tr>\n",
              "  </thead>\n",
              "  <tbody>\n",
              "    <tr>\n",
              "      <th>0</th>\n",
              "      <td>Photo Editor &amp; Candy Camera &amp; Grid &amp; ScrapBook</td>\n",
              "      <td>ART_AND_DESIGN</td>\n",
              "      <td>4.1</td>\n",
              "      <td>159</td>\n",
              "      <td>19M</td>\n",
              "      <td>10,000+</td>\n",
              "      <td>Free</td>\n",
              "      <td>0</td>\n",
              "      <td>Everyone</td>\n",
              "      <td>Art &amp; Design</td>\n",
              "      <td>January 7, 2018</td>\n",
              "      <td>1.0.0</td>\n",
              "      <td>4.0.3 and up</td>\n",
              "    </tr>\n",
              "    <tr>\n",
              "      <th>1</th>\n",
              "      <td>Coloring book moana</td>\n",
              "      <td>ART_AND_DESIGN</td>\n",
              "      <td>3.9</td>\n",
              "      <td>967</td>\n",
              "      <td>14M</td>\n",
              "      <td>500,000+</td>\n",
              "      <td>Free</td>\n",
              "      <td>0</td>\n",
              "      <td>Everyone</td>\n",
              "      <td>Art &amp; Design;Pretend Play</td>\n",
              "      <td>January 15, 2018</td>\n",
              "      <td>2.0.0</td>\n",
              "      <td>4.0.3 and up</td>\n",
              "    </tr>\n",
              "    <tr>\n",
              "      <th>2</th>\n",
              "      <td>U Launcher Lite – FREE Live Cool Themes, Hide ...</td>\n",
              "      <td>ART_AND_DESIGN</td>\n",
              "      <td>4.7</td>\n",
              "      <td>87510</td>\n",
              "      <td>8.7M</td>\n",
              "      <td>5,000,000+</td>\n",
              "      <td>Free</td>\n",
              "      <td>0</td>\n",
              "      <td>Everyone</td>\n",
              "      <td>Art &amp; Design</td>\n",
              "      <td>August 1, 2018</td>\n",
              "      <td>1.2.4</td>\n",
              "      <td>4.0.3 and up</td>\n",
              "    </tr>\n",
              "    <tr>\n",
              "      <th>3</th>\n",
              "      <td>Sketch - Draw &amp; Paint</td>\n",
              "      <td>ART_AND_DESIGN</td>\n",
              "      <td>4.5</td>\n",
              "      <td>215644</td>\n",
              "      <td>25M</td>\n",
              "      <td>50,000,000+</td>\n",
              "      <td>Free</td>\n",
              "      <td>0</td>\n",
              "      <td>Teen</td>\n",
              "      <td>Art &amp; Design</td>\n",
              "      <td>June 8, 2018</td>\n",
              "      <td>Varies with device</td>\n",
              "      <td>4.2 and up</td>\n",
              "    </tr>\n",
              "    <tr>\n",
              "      <th>4</th>\n",
              "      <td>Pixel Draw - Number Art Coloring Book</td>\n",
              "      <td>ART_AND_DESIGN</td>\n",
              "      <td>4.3</td>\n",
              "      <td>967</td>\n",
              "      <td>2.8M</td>\n",
              "      <td>100,000+</td>\n",
              "      <td>Free</td>\n",
              "      <td>0</td>\n",
              "      <td>Everyone</td>\n",
              "      <td>Art &amp; Design;Creativity</td>\n",
              "      <td>June 20, 2018</td>\n",
              "      <td>1.1</td>\n",
              "      <td>4.4 and up</td>\n",
              "    </tr>\n",
              "  </tbody>\n",
              "</table>\n",
              "</div>\n",
              "    <div class=\"colab-df-buttons\">\n",
              "\n",
              "  <div class=\"colab-df-container\">\n",
              "    <button class=\"colab-df-convert\" onclick=\"convertToInteractive('df-9d0c3145-34a2-47ef-994c-9dba53120203')\"\n",
              "            title=\"Convert this dataframe to an interactive table.\"\n",
              "            style=\"display:none;\">\n",
              "\n",
              "  <svg xmlns=\"http://www.w3.org/2000/svg\" height=\"24px\" viewBox=\"0 -960 960 960\">\n",
              "    <path d=\"M120-120v-720h720v720H120Zm60-500h600v-160H180v160Zm220 220h160v-160H400v160Zm0 220h160v-160H400v160ZM180-400h160v-160H180v160Zm440 0h160v-160H620v160ZM180-180h160v-160H180v160Zm440 0h160v-160H620v160Z\"/>\n",
              "  </svg>\n",
              "    </button>\n",
              "\n",
              "  <style>\n",
              "    .colab-df-container {\n",
              "      display:flex;\n",
              "      gap: 12px;\n",
              "    }\n",
              "\n",
              "    .colab-df-convert {\n",
              "      background-color: #E8F0FE;\n",
              "      border: none;\n",
              "      border-radius: 50%;\n",
              "      cursor: pointer;\n",
              "      display: none;\n",
              "      fill: #1967D2;\n",
              "      height: 32px;\n",
              "      padding: 0 0 0 0;\n",
              "      width: 32px;\n",
              "    }\n",
              "\n",
              "    .colab-df-convert:hover {\n",
              "      background-color: #E2EBFA;\n",
              "      box-shadow: 0px 1px 2px rgba(60, 64, 67, 0.3), 0px 1px 3px 1px rgba(60, 64, 67, 0.15);\n",
              "      fill: #174EA6;\n",
              "    }\n",
              "\n",
              "    .colab-df-buttons div {\n",
              "      margin-bottom: 4px;\n",
              "    }\n",
              "\n",
              "    [theme=dark] .colab-df-convert {\n",
              "      background-color: #3B4455;\n",
              "      fill: #D2E3FC;\n",
              "    }\n",
              "\n",
              "    [theme=dark] .colab-df-convert:hover {\n",
              "      background-color: #434B5C;\n",
              "      box-shadow: 0px 1px 3px 1px rgba(0, 0, 0, 0.15);\n",
              "      filter: drop-shadow(0px 1px 2px rgba(0, 0, 0, 0.3));\n",
              "      fill: #FFFFFF;\n",
              "    }\n",
              "  </style>\n",
              "\n",
              "    <script>\n",
              "      const buttonEl =\n",
              "        document.querySelector('#df-9d0c3145-34a2-47ef-994c-9dba53120203 button.colab-df-convert');\n",
              "      buttonEl.style.display =\n",
              "        google.colab.kernel.accessAllowed ? 'block' : 'none';\n",
              "\n",
              "      async function convertToInteractive(key) {\n",
              "        const element = document.querySelector('#df-9d0c3145-34a2-47ef-994c-9dba53120203');\n",
              "        const dataTable =\n",
              "          await google.colab.kernel.invokeFunction('convertToInteractive',\n",
              "                                                    [key], {});\n",
              "        if (!dataTable) return;\n",
              "\n",
              "        const docLinkHtml = 'Like what you see? Visit the ' +\n",
              "          '<a target=\"_blank\" href=https://colab.research.google.com/notebooks/data_table.ipynb>data table notebook</a>'\n",
              "          + ' to learn more about interactive tables.';\n",
              "        element.innerHTML = '';\n",
              "        dataTable['output_type'] = 'display_data';\n",
              "        await google.colab.output.renderOutput(dataTable, element);\n",
              "        const docLink = document.createElement('div');\n",
              "        docLink.innerHTML = docLinkHtml;\n",
              "        element.appendChild(docLink);\n",
              "      }\n",
              "    </script>\n",
              "  </div>\n",
              "\n",
              "\n",
              "<div id=\"df-0648265e-35fb-4cda-a47c-964046224b14\">\n",
              "  <button class=\"colab-df-quickchart\" onclick=\"quickchart('df-0648265e-35fb-4cda-a47c-964046224b14')\"\n",
              "            title=\"Suggest charts\"\n",
              "            style=\"display:none;\">\n",
              "\n",
              "<svg xmlns=\"http://www.w3.org/2000/svg\" height=\"24px\"viewBox=\"0 0 24 24\"\n",
              "     width=\"24px\">\n",
              "    <g>\n",
              "        <path d=\"M19 3H5c-1.1 0-2 .9-2 2v14c0 1.1.9 2 2 2h14c1.1 0 2-.9 2-2V5c0-1.1-.9-2-2-2zM9 17H7v-7h2v7zm4 0h-2V7h2v10zm4 0h-2v-4h2v4z\"/>\n",
              "    </g>\n",
              "</svg>\n",
              "  </button>\n",
              "\n",
              "<style>\n",
              "  .colab-df-quickchart {\n",
              "      --bg-color: #E8F0FE;\n",
              "      --fill-color: #1967D2;\n",
              "      --hover-bg-color: #E2EBFA;\n",
              "      --hover-fill-color: #174EA6;\n",
              "      --disabled-fill-color: #AAA;\n",
              "      --disabled-bg-color: #DDD;\n",
              "  }\n",
              "\n",
              "  [theme=dark] .colab-df-quickchart {\n",
              "      --bg-color: #3B4455;\n",
              "      --fill-color: #D2E3FC;\n",
              "      --hover-bg-color: #434B5C;\n",
              "      --hover-fill-color: #FFFFFF;\n",
              "      --disabled-bg-color: #3B4455;\n",
              "      --disabled-fill-color: #666;\n",
              "  }\n",
              "\n",
              "  .colab-df-quickchart {\n",
              "    background-color: var(--bg-color);\n",
              "    border: none;\n",
              "    border-radius: 50%;\n",
              "    cursor: pointer;\n",
              "    display: none;\n",
              "    fill: var(--fill-color);\n",
              "    height: 32px;\n",
              "    padding: 0;\n",
              "    width: 32px;\n",
              "  }\n",
              "\n",
              "  .colab-df-quickchart:hover {\n",
              "    background-color: var(--hover-bg-color);\n",
              "    box-shadow: 0 1px 2px rgba(60, 64, 67, 0.3), 0 1px 3px 1px rgba(60, 64, 67, 0.15);\n",
              "    fill: var(--button-hover-fill-color);\n",
              "  }\n",
              "\n",
              "  .colab-df-quickchart-complete:disabled,\n",
              "  .colab-df-quickchart-complete:disabled:hover {\n",
              "    background-color: var(--disabled-bg-color);\n",
              "    fill: var(--disabled-fill-color);\n",
              "    box-shadow: none;\n",
              "  }\n",
              "\n",
              "  .colab-df-spinner {\n",
              "    border: 2px solid var(--fill-color);\n",
              "    border-color: transparent;\n",
              "    border-bottom-color: var(--fill-color);\n",
              "    animation:\n",
              "      spin 1s steps(1) infinite;\n",
              "  }\n",
              "\n",
              "  @keyframes spin {\n",
              "    0% {\n",
              "      border-color: transparent;\n",
              "      border-bottom-color: var(--fill-color);\n",
              "      border-left-color: var(--fill-color);\n",
              "    }\n",
              "    20% {\n",
              "      border-color: transparent;\n",
              "      border-left-color: var(--fill-color);\n",
              "      border-top-color: var(--fill-color);\n",
              "    }\n",
              "    30% {\n",
              "      border-color: transparent;\n",
              "      border-left-color: var(--fill-color);\n",
              "      border-top-color: var(--fill-color);\n",
              "      border-right-color: var(--fill-color);\n",
              "    }\n",
              "    40% {\n",
              "      border-color: transparent;\n",
              "      border-right-color: var(--fill-color);\n",
              "      border-top-color: var(--fill-color);\n",
              "    }\n",
              "    60% {\n",
              "      border-color: transparent;\n",
              "      border-right-color: var(--fill-color);\n",
              "    }\n",
              "    80% {\n",
              "      border-color: transparent;\n",
              "      border-right-color: var(--fill-color);\n",
              "      border-bottom-color: var(--fill-color);\n",
              "    }\n",
              "    90% {\n",
              "      border-color: transparent;\n",
              "      border-bottom-color: var(--fill-color);\n",
              "    }\n",
              "  }\n",
              "</style>\n",
              "\n",
              "  <script>\n",
              "    async function quickchart(key) {\n",
              "      const quickchartButtonEl =\n",
              "        document.querySelector('#' + key + ' button');\n",
              "      quickchartButtonEl.disabled = true;  // To prevent multiple clicks.\n",
              "      quickchartButtonEl.classList.add('colab-df-spinner');\n",
              "      try {\n",
              "        const charts = await google.colab.kernel.invokeFunction(\n",
              "            'suggestCharts', [key], {});\n",
              "      } catch (error) {\n",
              "        console.error('Error during call to suggestCharts:', error);\n",
              "      }\n",
              "      quickchartButtonEl.classList.remove('colab-df-spinner');\n",
              "      quickchartButtonEl.classList.add('colab-df-quickchart-complete');\n",
              "    }\n",
              "    (() => {\n",
              "      let quickchartButtonEl =\n",
              "        document.querySelector('#df-0648265e-35fb-4cda-a47c-964046224b14 button');\n",
              "      quickchartButtonEl.style.display =\n",
              "        google.colab.kernel.accessAllowed ? 'block' : 'none';\n",
              "    })();\n",
              "  </script>\n",
              "</div>\n",
              "    </div>\n",
              "  </div>\n"
            ],
            "application/vnd.google.colaboratory.intrinsic+json": {
              "type": "dataframe",
              "variable_name": "data",
              "summary": "{\n  \"name\": \"data\",\n  \"rows\": 10841,\n  \"fields\": [\n    {\n      \"column\": \"App\",\n      \"properties\": {\n        \"dtype\": \"string\",\n        \"num_unique_values\": 9660,\n        \"samples\": [\n          \"Run R Script - Online Statistical Data Analysis\",\n          \"EURES - Your Job in Europe\",\n          \"Dog Licks Screen Wallpaper\"\n        ],\n        \"semantic_type\": \"\",\n        \"description\": \"\"\n      }\n    },\n    {\n      \"column\": \"Category\",\n      \"properties\": {\n        \"dtype\": \"category\",\n        \"num_unique_values\": 34,\n        \"samples\": [\n          \"LIBRARIES_AND_DEMO\",\n          \"MEDICAL\",\n          \"PRODUCTIVITY\"\n        ],\n        \"semantic_type\": \"\",\n        \"description\": \"\"\n      }\n    },\n    {\n      \"column\": \"Rating\",\n      \"properties\": {\n        \"dtype\": \"number\",\n        \"std\": 0.5374313031477587,\n        \"min\": 1.0,\n        \"max\": 19.0,\n        \"num_unique_values\": 40,\n        \"samples\": [\n          5.0,\n          3.4,\n          3.3\n        ],\n        \"semantic_type\": \"\",\n        \"description\": \"\"\n      }\n    },\n    {\n      \"column\": \"Reviews\",\n      \"properties\": {\n        \"dtype\": \"string\",\n        \"num_unique_values\": 6002,\n        \"samples\": [\n          \"66661\",\n          \"7479\",\n          \"8978\"\n        ],\n        \"semantic_type\": \"\",\n        \"description\": \"\"\n      }\n    },\n    {\n      \"column\": \"Size\",\n      \"properties\": {\n        \"dtype\": \"category\",\n        \"num_unique_values\": 462,\n        \"samples\": [\n          \"746k\",\n          \"9.4M\",\n          \"35M\"\n        ],\n        \"semantic_type\": \"\",\n        \"description\": \"\"\n      }\n    },\n    {\n      \"column\": \"Installs\",\n      \"properties\": {\n        \"dtype\": \"category\",\n        \"num_unique_values\": 22,\n        \"samples\": [\n          \"10,000+\",\n          \"50+\",\n          \"5,000+\"\n        ],\n        \"semantic_type\": \"\",\n        \"description\": \"\"\n      }\n    },\n    {\n      \"column\": \"Type\",\n      \"properties\": {\n        \"dtype\": \"category\",\n        \"num_unique_values\": 3,\n        \"samples\": [\n          \"Free\",\n          \"Paid\",\n          \"0\"\n        ],\n        \"semantic_type\": \"\",\n        \"description\": \"\"\n      }\n    },\n    {\n      \"column\": \"Price\",\n      \"properties\": {\n        \"dtype\": \"category\",\n        \"num_unique_values\": 93,\n        \"samples\": [\n          \"$17.99\",\n          \"$29.99\",\n          \"$37.99\"\n        ],\n        \"semantic_type\": \"\",\n        \"description\": \"\"\n      }\n    },\n    {\n      \"column\": \"Content Rating\",\n      \"properties\": {\n        \"dtype\": \"category\",\n        \"num_unique_values\": 6,\n        \"samples\": [\n          \"Everyone\",\n          \"Teen\",\n          \"Unrated\"\n        ],\n        \"semantic_type\": \"\",\n        \"description\": \"\"\n      }\n    },\n    {\n      \"column\": \"Genres\",\n      \"properties\": {\n        \"dtype\": \"category\",\n        \"num_unique_values\": 120,\n        \"samples\": [\n          \"Casual;Action & Adventure\",\n          \"Board\",\n          \"Auto & Vehicles\"\n        ],\n        \"semantic_type\": \"\",\n        \"description\": \"\"\n      }\n    },\n    {\n      \"column\": \"Last Updated\",\n      \"properties\": {\n        \"dtype\": \"category\",\n        \"num_unique_values\": 1378,\n        \"samples\": [\n          \"March 15, 2016\",\n          \"May 14, 2013\",\n          \"October 21, 2015\"\n        ],\n        \"semantic_type\": \"\",\n        \"description\": \"\"\n      }\n    },\n    {\n      \"column\": \"Current Ver\",\n      \"properties\": {\n        \"dtype\": \"category\",\n        \"num_unique_values\": 2832,\n        \"samples\": [\n          \"7.0.4.17908\",\n          \"1.2.5.4-11\",\n          \"2.5.7.1\"\n        ],\n        \"semantic_type\": \"\",\n        \"description\": \"\"\n      }\n    },\n    {\n      \"column\": \"Android Ver\",\n      \"properties\": {\n        \"dtype\": \"category\",\n        \"num_unique_values\": 33,\n        \"samples\": [\n          \"2.2 - 7.1.1\",\n          \"7.0 and up\",\n          \"3.1 and up\"\n        ],\n        \"semantic_type\": \"\",\n        \"description\": \"\"\n      }\n    }\n  ]\n}"
            }
          },
          "metadata": {},
          "execution_count": 69
        }
      ]
    },
    {
      "cell_type": "code",
      "source": [
        "# Размер\n",
        "data.shape\n"
      ],
      "metadata": {
        "colab": {
          "base_uri": "https://localhost:8080/",
          "height": 0
        },
        "id": "brY8WoHkOvjZ",
        "outputId": "c5210d8d-78d8-4de4-dc24-b836e7197aa7"
      },
      "execution_count": 70,
      "outputs": [
        {
          "output_type": "execute_result",
          "data": {
            "text/plain": [
              "(10841, 13)"
            ]
          },
          "metadata": {},
          "execution_count": 70
        }
      ]
    },
    {
      "cell_type": "code",
      "source": [
        "# Список колонок с типами данных\n",
        "data.dtypes"
      ],
      "metadata": {
        "colab": {
          "base_uri": "https://localhost:8080/",
          "height": 0
        },
        "id": "l4obArAZOvnk",
        "outputId": "0f0c8f19-eb8b-445f-ae1e-8146ead5bf4c"
      },
      "execution_count": 71,
      "outputs": [
        {
          "output_type": "execute_result",
          "data": {
            "text/plain": [
              "App                object\n",
              "Category           object\n",
              "Rating            float64\n",
              "Reviews            object\n",
              "Size               object\n",
              "Installs           object\n",
              "Type               object\n",
              "Price              object\n",
              "Content Rating     object\n",
              "Genres             object\n",
              "Last Updated       object\n",
              "Current Ver        object\n",
              "Android Ver        object\n",
              "dtype: object"
            ]
          },
          "metadata": {},
          "execution_count": 71
        }
      ]
    },
    {
      "cell_type": "code",
      "source": [
        "# Проверим наличие пустых значений\n",
        "for col in data.columns:\n",
        "    # Количество пустых значений - все значения заполнены\n",
        "    temp_null_count = data[data[col].isnull()].shape[0]\n",
        "    print('{} - {}'.format(col, temp_null_count))"
      ],
      "metadata": {
        "colab": {
          "base_uri": "https://localhost:8080/",
          "height": 0
        },
        "id": "BWg4eR9qPAbE",
        "outputId": "75f0b8a4-ffc3-4eeb-f3a9-bcadd41876ef"
      },
      "execution_count": 72,
      "outputs": [
        {
          "output_type": "stream",
          "name": "stdout",
          "text": [
            "App - 0\n",
            "Category - 0\n",
            "Rating - 1474\n",
            "Reviews - 0\n",
            "Size - 0\n",
            "Installs - 0\n",
            "Type - 1\n",
            "Price - 0\n",
            "Content Rating - 1\n",
            "Genres - 0\n",
            "Last Updated - 0\n",
            "Current Ver - 8\n",
            "Android Ver - 3\n"
          ]
        }
      ]
    },
    {
      "cell_type": "code",
      "source": [
        "# Удаление строк, содержащих пустые значения\n",
        "df = data.dropna(axis=0, how='any')\n",
        "(data.shape, df.shape)"
      ],
      "metadata": {
        "colab": {
          "base_uri": "https://localhost:8080/",
          "height": 0
        },
        "id": "-XFtVlhrPAef",
        "outputId": "712c71e3-7e5b-419c-ac2e-93398f0a5a21"
      },
      "execution_count": 73,
      "outputs": [
        {
          "output_type": "execute_result",
          "data": {
            "text/plain": [
              "((10841, 13), (9360, 13))"
            ]
          },
          "metadata": {},
          "execution_count": 73
        }
      ]
    },
    {
      "cell_type": "code",
      "source": [
        "for col in df.columns:\n",
        "    # Количество пустых значений - все значения заполнены\n",
        "    temp_null_count = df[df[col].isnull()].shape[0]\n",
        "    print('{} - {}'.format(col, temp_null_count))\n",
        "total_count = df.shape[0]\n",
        "print('Всего строк: {}'.format(total_count))"
      ],
      "metadata": {
        "colab": {
          "base_uri": "https://localhost:8080/",
          "height": 0
        },
        "id": "81RvJDNxPAhq",
        "outputId": "9e9f1f08-462b-48d8-b658-75494a354878"
      },
      "execution_count": 74,
      "outputs": [
        {
          "output_type": "stream",
          "name": "stdout",
          "text": [
            "App - 0\n",
            "Category - 0\n",
            "Rating - 0\n",
            "Reviews - 0\n",
            "Size - 0\n",
            "Installs - 0\n",
            "Type - 0\n",
            "Price - 0\n",
            "Content Rating - 0\n",
            "Genres - 0\n",
            "Last Updated - 0\n",
            "Current Ver - 0\n",
            "Android Ver - 0\n",
            "Всего строк: 9360\n"
          ]
        }
      ]
    },
    {
      "cell_type": "code",
      "source": [
        "if 'Size' in df.columns:\n",
        "    df.drop('Size', axis=1, inplace=True)\n",
        "else:\n",
        "    print(\"'Size' column does not exist in the DataFrame.\")\n",
        "\n",
        "for column in df.columns:\n",
        "    # Для категориальных столбцов используем наиболее часто встречающееся значение\n",
        "    if df[column].dtype == 'object':\n",
        "        df[column] = df[column].fillna(df[column].mode()[0])\n",
        "    else:\n",
        "        # Для числовых столбцов можно использовать медиану\n",
        "        df[column] = df[column].fillna(df[column].median())\n",
        "\n",
        "df = df[df['Installs']!= 'Free']\n",
        "\n",
        "# Преобразуем все значения в столбце 'Installs' в строки\n",
        "df['Installs'] = df['Installs'].apply(lambda x: str(x))\n",
        "\n",
        "# Теперь можем безопасно использовать.str для преобразования формата 'Installs' к числовому\n",
        "df['Installs'] = df['Installs'].str.replace('+', '').str.replace(',', '').astype(int)\n",
        "\n",
        "# Преобразуем все значения в столбце 'Price' в строки\n",
        "df['Price'] = df['Price'].apply(lambda x: str(x))\n",
        "\n",
        "# Теперь можем безопасно использовать.str для преобразования формата 'Price' к числовому\n",
        "df['Price'] = df['Price'].str.replace('$', '').astype(float)\n",
        "\n",
        "# Кодирование категориальных признаков\n",
        "label_encoder = LabelEncoder()\n",
        "categorical_columns = ['Category', 'Type', 'Content Rating', 'Genres', \"Last Updated\", \"Current Ver\", \"Android Ver\"]\n",
        "\n",
        "for col in categorical_columns:\n",
        "    df[col] = label_encoder.fit_transform(df[col])\n",
        "\n",
        "# Преобразуем 'Reviews' в числовой формат\n",
        "df['Reviews'] = df['Reviews'].astype(int)\n",
        "\n",
        "# Целевая переменная и признаки\n",
        "X = df.drop(['App', 'Rating'], axis=1)\n",
        "y = df['Rating']\n"
      ],
      "metadata": {
        "colab": {
          "base_uri": "https://localhost:8080/",
          "height": 0
        },
        "id": "rQpt8YCvPAk2",
        "outputId": "feb26872-d800-47e9-9f21-d02876ef0c08"
      },
      "execution_count": 75,
      "outputs": [
        {
          "output_type": "stream",
          "name": "stderr",
          "text": [
            "<ipython-input-75-7001d1cc8a5a>:2: SettingWithCopyWarning: \n",
            "A value is trying to be set on a copy of a slice from a DataFrame\n",
            "\n",
            "See the caveats in the documentation: https://pandas.pydata.org/pandas-docs/stable/user_guide/indexing.html#returning-a-view-versus-a-copy\n",
            "  df.drop('Size', axis=1, inplace=True)\n",
            "<ipython-input-75-7001d1cc8a5a>:9: SettingWithCopyWarning: \n",
            "A value is trying to be set on a copy of a slice from a DataFrame.\n",
            "Try using .loc[row_indexer,col_indexer] = value instead\n",
            "\n",
            "See the caveats in the documentation: https://pandas.pydata.org/pandas-docs/stable/user_guide/indexing.html#returning-a-view-versus-a-copy\n",
            "  df[column] = df[column].fillna(df[column].mode()[0])\n",
            "<ipython-input-75-7001d1cc8a5a>:12: SettingWithCopyWarning: \n",
            "A value is trying to be set on a copy of a slice from a DataFrame.\n",
            "Try using .loc[row_indexer,col_indexer] = value instead\n",
            "\n",
            "See the caveats in the documentation: https://pandas.pydata.org/pandas-docs/stable/user_guide/indexing.html#returning-a-view-versus-a-copy\n",
            "  df[column] = df[column].fillna(df[column].median())\n",
            "<ipython-input-75-7001d1cc8a5a>:9: SettingWithCopyWarning: \n",
            "A value is trying to be set on a copy of a slice from a DataFrame.\n",
            "Try using .loc[row_indexer,col_indexer] = value instead\n",
            "\n",
            "See the caveats in the documentation: https://pandas.pydata.org/pandas-docs/stable/user_guide/indexing.html#returning-a-view-versus-a-copy\n",
            "  df[column] = df[column].fillna(df[column].mode()[0])\n"
          ]
        }
      ]
    },
    {
      "cell_type": "code",
      "source": [
        "# Разделение данных на обучающую и тестовую выборки\n",
        "X_train, X_test, y_train, y_test = train_test_split(X, y, test_size=0.2, random_state=0)\n",
        "\n",
        "# Модели\n",
        "lin_reg = LinearRegression()\n",
        "\n",
        "# Обучение моделей\n",
        "lin_reg.fit(X_train, y_train)\n",
        "\n",
        "# Предсказания моделей\n",
        "y_pred_lin = lin_reg.predict(X_test)\n",
        "\n",
        "# Метрики качества моделей\n",
        "lin_r2 = r2_score(y_test, y_pred_lin)\n",
        "lin_mse = mean_squared_error(y_test, y_pred_lin)\n",
        "mae_rf = mean_absolute_error(y_test, y_pred_lin)\n",
        "print(\"Linear Regression:\")\n",
        "print(f'Linear Regression R^2: {lin_r2}')\n",
        "print(f'Linear Regression MSE: {lin_mse}')\n",
        "print(f'Linear Regression MAE: {mae_rf}')"
      ],
      "metadata": {
        "colab": {
          "base_uri": "https://localhost:8080/",
          "height": 0
        },
        "id": "kEmfrw7yPAoW",
        "outputId": "9a121cec-8b72-4c15-8ca1-c199895c24af"
      },
      "execution_count": 81,
      "outputs": [
        {
          "output_type": "stream",
          "name": "stdout",
          "text": [
            "Linear Regression:\n",
            "Linear Regression R^2: 0.013879145005462279\n",
            "Linear Regression MSE: 0.26753674086718726\n",
            "Linear Regression MAE: 0.35497447529767073\n"
          ]
        }
      ]
    },
    {
      "cell_type": "code",
      "source": [
        "# Обучение модели\n",
        "rf_regressor = RandomForestRegressor(random_state=42)\n",
        "rf_regressor.fit(X_train, y_train)\n",
        "\n",
        "# Предсказания\n",
        "y_pred_rf = rf_regressor.predict(X_test)\n",
        "\n",
        "# Оценка качества модели\n",
        "mse_rf = mean_squared_error(y_test, y_pred_rf)\n",
        "r2_rf = r2_score(y_test, y_pred_rf)"
      ],
      "metadata": {
        "id": "ByW5xb60V_Y4"
      },
      "execution_count": 77,
      "outputs": []
    },
    {
      "cell_type": "code",
      "source": [
        "from sklearn.metrics import mean_squared_error, r2_score, mean_absolute_error\n",
        "\n",
        "# Обучение модели\n",
        "rf_model = RandomForestRegressor(random_state=42)\n",
        "rf_model.fit(X_train, y_train)\n",
        "\n",
        "# Предсказания\n",
        "y_pred_rf = rf_model.predict(X_test)\n",
        "\n",
        "# Оценка качества модели\n",
        "mse_rf = mean_squared_error(y_test, y_pred_rf)\n",
        "mae_rf = mean_absolute_error(y_test, y_pred_rf)\n",
        "r2_rf = r2_score(y_test, y_pred_rf)\n",
        "\n",
        "print(\"Random Forest Regressor:\")\n",
        "print(\"Mean Squared Error:\", mse_rf)\n",
        "print(\"Mean Absolute Error:\", mae_rf)\n",
        "\n",
        "print(\"R^2 Score:\", r2_rf)\n"
      ],
      "metadata": {
        "colab": {
          "base_uri": "https://localhost:8080/",
          "height": 0
        },
        "id": "jtp5nedFWobH",
        "outputId": "3d8250d1-739f-4f29-858a-643cb00d981e"
      },
      "execution_count": 78,
      "outputs": [
        {
          "output_type": "stream",
          "name": "stdout",
          "text": [
            "Random Forest Regressor:\n",
            "Mean Squared Error: 0.21990145571175104\n",
            "Mean Absolute Error: 0.30156042048229537\n",
            "R^2 Score: 0.18945932129499354\n"
          ]
        }
      ]
    },
    {
      "cell_type": "markdown",
      "source": [
        "Для оценки качества моделей будем использовать следующие метрики:\n",
        "\n",
        "Среднеквадратичная ошибка (MSE): Отражает среднее квадратичное отклонение предсказаний от фактических значений. Чем меньше MSE, тем лучше.\n",
        "\n",
        "R-квадрат (R^2): Определяет долю дисперсии зависимой переменной, объясняемую моделью. R^2 ближе к 1 указывает на лучшую модель.\n",
        "\n",
        "Mean Absolute Error (MAE) - это метрика, которая показывает среднее абсолютное отклонение прогнозируемых значений модели от фактических значений на тестовой выборке. При сравнении двух моделей по MAE нам нужно сравнить их значения MAE: чем меньше MAE, тем лучше модель.\n",
        "\n",
        "Linear Regression:\n",
        "\n",
        "Linear Regression R^2: 0.013879145005462279\n",
        "\n",
        "Linear Regression MSE: 0.26753674086718726\n",
        "\n",
        "Linear Regression MAE: 0.35497447529767073\n",
        "\n",
        "Random Forest Regressor:\n",
        "\n",
        "Mean Squared Error: 0.21990145571175104\n",
        "\n",
        "Mean Absolute Error: 0.30156042048229537\n",
        "\n",
        "R^2 Score: 0.18945932129499354\n",
        "\n",
        "**По результатам оценки качества видно, что Random Forest Regressor превосходит линейную регрессию по трем метрикам**"
      ],
      "metadata": {
        "id": "s1yDa0w6aeOD"
      }
    },
    {
      "cell_type": "code",
      "source": [],
      "metadata": {
        "id": "p1dr1H9CbAxq"
      },
      "execution_count": null,
      "outputs": []
    }
  ]
}